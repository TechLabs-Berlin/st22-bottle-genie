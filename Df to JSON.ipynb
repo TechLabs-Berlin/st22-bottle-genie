{
 "cells": [
  {
   "cell_type": "code",
   "execution_count": 2,
   "metadata": {},
   "outputs": [],
   "source": [
    "import pandas as pd"
   ]
  },
  {
   "cell_type": "code",
   "execution_count": 3,
   "metadata": {},
   "outputs": [],
   "source": [
    "df = pd.read_csv('Database.csv')"
   ]
  },
  {
   "cell_type": "code",
   "execution_count": 4,
   "metadata": {},
   "outputs": [
    {
     "data": {
      "text/html": [
       "<div>\n",
       "<style scoped>\n",
       "    .dataframe tbody tr th:only-of-type {\n",
       "        vertical-align: middle;\n",
       "    }\n",
       "\n",
       "    .dataframe tbody tr th {\n",
       "        vertical-align: top;\n",
       "    }\n",
       "\n",
       "    .dataframe thead th {\n",
       "        text-align: right;\n",
       "    }\n",
       "</style>\n",
       "<table border=\"1\" class=\"dataframe\">\n",
       "  <thead>\n",
       "    <tr style=\"text-align: right;\">\n",
       "      <th></th>\n",
       "      <th>Unnamed: 0</th>\n",
       "      <th>Unnamed: 1</th>\n",
       "      <th>Unnamed: 2</th>\n",
       "      <th>Unnamed: 3</th>\n",
       "      <th>Unnamed: 4</th>\n",
       "      <th>Unnamed: 5</th>\n",
       "    </tr>\n",
       "  </thead>\n",
       "  <tbody>\n",
       "    <tr>\n",
       "      <th>0</th>\n",
       "      <td>NaN</td>\n",
       "      <td>Store</td>\n",
       "      <td>Brand</td>\n",
       "      <td>Material</td>\n",
       "      <td>Volume (L)</td>\n",
       "      <td>Value (Euros)</td>\n",
       "    </tr>\n",
       "    <tr>\n",
       "      <th>1</th>\n",
       "      <td>NaN</td>\n",
       "      <td>Penny</td>\n",
       "      <td>Lichtenauer Fresh n Fruit</td>\n",
       "      <td>Plastic</td>\n",
       "      <td>1,5</td>\n",
       "      <td>0,25</td>\n",
       "    </tr>\n",
       "    <tr>\n",
       "      <th>2</th>\n",
       "      <td>NaN</td>\n",
       "      <td>Penny</td>\n",
       "      <td>Bullit Energy Drink Original</td>\n",
       "      <td>Plastic</td>\n",
       "      <td>0,5</td>\n",
       "      <td>0,25</td>\n",
       "    </tr>\n",
       "    <tr>\n",
       "      <th>3</th>\n",
       "      <td>NaN</td>\n",
       "      <td>Penny</td>\n",
       "      <td>Bullit Energy Drink Original</td>\n",
       "      <td>Plastic</td>\n",
       "      <td>1,5</td>\n",
       "      <td>0,25</td>\n",
       "    </tr>\n",
       "    <tr>\n",
       "      <th>4</th>\n",
       "      <td>NaN</td>\n",
       "      <td>Penny</td>\n",
       "      <td>Bullit Energy Drink GrapeFruit</td>\n",
       "      <td>Plastic</td>\n",
       "      <td>1</td>\n",
       "      <td>0,25</td>\n",
       "    </tr>\n",
       "    <tr>\n",
       "      <th>...</th>\n",
       "      <td>...</td>\n",
       "      <td>...</td>\n",
       "      <td>...</td>\n",
       "      <td>...</td>\n",
       "      <td>...</td>\n",
       "      <td>...</td>\n",
       "    </tr>\n",
       "    <tr>\n",
       "      <th>479</th>\n",
       "      <td>NaN</td>\n",
       "      <td>Aldi</td>\n",
       "      <td>Rio D Oro Smoothie Plus</td>\n",
       "      <td>Plastic</td>\n",
       "      <td>0,25</td>\n",
       "      <td>0,25</td>\n",
       "    </tr>\n",
       "    <tr>\n",
       "      <th>480</th>\n",
       "      <td>NaN</td>\n",
       "      <td>Aldi</td>\n",
       "      <td>Paulaner Spezi</td>\n",
       "      <td>Aluminium</td>\n",
       "      <td>0,33</td>\n",
       "      <td>0,25</td>\n",
       "    </tr>\n",
       "    <tr>\n",
       "      <th>481</th>\n",
       "      <td>NaN</td>\n",
       "      <td>Aldi</td>\n",
       "      <td>Coca Cola Zero</td>\n",
       "      <td>Aluminium</td>\n",
       "      <td>0,33</td>\n",
       "      <td>0,25</td>\n",
       "    </tr>\n",
       "    <tr>\n",
       "      <th>482</th>\n",
       "      <td>NaN</td>\n",
       "      <td>Aldi</td>\n",
       "      <td>Coca Cola</td>\n",
       "      <td>Aluminium</td>\n",
       "      <td>0,33</td>\n",
       "      <td>0,25</td>\n",
       "    </tr>\n",
       "    <tr>\n",
       "      <th>483</th>\n",
       "      <td>NaN</td>\n",
       "      <td>Aldi</td>\n",
       "      <td>Ileburger Brause Himbeer</td>\n",
       "      <td>Plastic</td>\n",
       "      <td>1,5</td>\n",
       "      <td>0,25</td>\n",
       "    </tr>\n",
       "  </tbody>\n",
       "</table>\n",
       "<p>484 rows × 6 columns</p>\n",
       "</div>"
      ],
      "text/plain": [
       "     Unnamed: 0 Unnamed: 1                      Unnamed: 2 Unnamed: 3  \\\n",
       "0           NaN      Store                           Brand   Material   \n",
       "1           NaN      Penny       Lichtenauer Fresh n Fruit    Plastic   \n",
       "2           NaN      Penny    Bullit Energy Drink Original    Plastic   \n",
       "3           NaN      Penny    Bullit Energy Drink Original    Plastic   \n",
       "4           NaN      Penny  Bullit Energy Drink GrapeFruit    Plastic   \n",
       "..          ...        ...                             ...        ...   \n",
       "479         NaN       Aldi         Rio D Oro Smoothie Plus    Plastic   \n",
       "480         NaN       Aldi                  Paulaner Spezi  Aluminium   \n",
       "481         NaN       Aldi                  Coca Cola Zero  Aluminium   \n",
       "482         NaN       Aldi                       Coca Cola  Aluminium   \n",
       "483         NaN       Aldi        Ileburger Brause Himbeer    Plastic   \n",
       "\n",
       "     Unnamed: 4     Unnamed: 5  \n",
       "0    Volume (L)  Value (Euros)  \n",
       "1           1,5           0,25  \n",
       "2           0,5           0,25  \n",
       "3           1,5           0,25  \n",
       "4             1           0,25  \n",
       "..          ...            ...  \n",
       "479        0,25           0,25  \n",
       "480        0,33           0,25  \n",
       "481        0,33           0,25  \n",
       "482        0,33           0,25  \n",
       "483         1,5           0,25  \n",
       "\n",
       "[484 rows x 6 columns]"
      ]
     },
     "execution_count": 4,
     "metadata": {},
     "output_type": "execute_result"
    }
   ],
   "source": [
    "df"
   ]
  },
  {
   "cell_type": "code",
   "execution_count": 5,
   "metadata": {},
   "outputs": [],
   "source": [
    "df.drop(columns='Unnamed: 0', inplace=True)"
   ]
  },
  {
   "cell_type": "code",
   "execution_count": 6,
   "metadata": {},
   "outputs": [],
   "source": [
    "df.columns = [ 'Store', 'Brand', 'Material', 'Volume', 'Value']"
   ]
  },
  {
   "cell_type": "code",
   "execution_count": 20,
   "metadata": {},
   "outputs": [],
   "source": [
    "data = df.to_json('./export.json', orient='table', index=False)"
   ]
  },
  {
   "cell_type": "code",
   "execution_count": 21,
   "metadata": {},
   "outputs": [
    {
     "name": "stdout",
     "output_type": "stream",
     "text": [
      "None\n"
     ]
    }
   ],
   "source": [
    "print(data)"
   ]
  },
  {
   "cell_type": "code",
   "execution_count": null,
   "metadata": {},
   "outputs": [],
   "source": []
  }
 ],
 "metadata": {
  "kernelspec": {
   "display_name": "Python 3",
   "language": "python",
   "name": "python3"
  },
  "language_info": {
   "codemirror_mode": {
    "name": "ipython",
    "version": 3
   },
   "file_extension": ".py",
   "mimetype": "text/x-python",
   "name": "python",
   "nbconvert_exporter": "python",
   "pygments_lexer": "ipython3",
   "version": "3.8.5"
  }
 },
 "nbformat": 4,
 "nbformat_minor": 4
}
